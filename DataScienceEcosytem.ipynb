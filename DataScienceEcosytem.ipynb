{
  "nbformat": 4,
  "nbformat_minor": 0,
  "metadata": {
    "colab": {
      "provenance": []
    },
    "kernelspec": {
      "name": "python3",
      "display_name": "Python 3"
    },
    "language_info": {
      "name": "python"
    }
  },
  "cells": [
    {
      "cell_type": "markdown",
      "source": [
        "## Data Science Tools and Ecosystems"
      ],
      "metadata": {
        "id": "8iTc2skyHMxs"
      }
    },
    {
      "cell_type": "markdown",
      "source": [
        "##Author:\n",
        "Robert Seth Wood"
      ],
      "metadata": {
        "id": "Iq8JJ1bCP2C_"
      }
    },
    {
      "cell_type": "markdown",
      "source": [
        "In this notebook, Data Science Tools and Ecosystem are summarized."
      ],
      "metadata": {
        "id": "luJ2xqSLICOI"
      }
    },
    {
      "cell_type": "markdown",
      "source": [
        "# **Objectives:**\n",
        "\n",
        "* Learn about popular prgramming languages and their use.\n",
        "* The common use cases for Python and R.\n",
        "* How 'git' adn Github are used for code management and aid collaboration.\n"
      ],
      "metadata": {
        "id": "AzlZIyEAO7ST"
      }
    },
    {
      "cell_type": "markdown",
      "source": [
        "Some of the popular landuages that Data Scientist use are:\n",
        "\n",
        "\n",
        "1.   Python\n",
        "2.   R  \n",
        "3. Julia\n",
        "\n",
        "\n",
        "\n"
      ],
      "metadata": {
        "id": "599VMxzQIbI8"
      }
    },
    {
      "cell_type": "markdown",
      "source": [
        "Some of the commonly useed linraries by Data Scientists include:\n",
        "\n",
        "\n",
        "1.   Pandas\n",
        "2.   Numpy\n",
        "3. Matplotlib\n",
        "\n",
        "\n"
      ],
      "metadata": {
        "id": "j0Dl_uewJBV-"
      }
    },
    {
      "cell_type": "markdown",
      "source": [
        "# Below are a few examples of evaluating arithmetic expressions in Python\n",
        "\n",
        "\n",
        "\n",
        "*   Addition: 5+5\n",
        "*   Subtratction: 5-5\n",
        "*   Multiplication: 5*5\n",
        "*   Division: 5/5\n",
        "*   Floor Divisioin: 5//2\n",
        "*   Modulus: 5%2\n",
        "*   Exponent: 5**2"
      ],
      "metadata": {
        "id": "DC58YoNxMGqK"
      }
    },
    {
      "cell_type": "code",
      "source": [
        "(3*4)+5\n",
        "#This is a simple arithmetic expression to multiply  then add intergers"
      ],
      "metadata": {
        "colab": {
          "base_uri": "https://localhost:8080/"
        },
        "id": "zi6sKH6fMgAs",
        "outputId": "0052cc5d-f673-4e5f-d464-b5753c105f88"
      },
      "execution_count": 16,
      "outputs": [
        {
          "output_type": "execute_result",
          "data": {
            "text/plain": [
              "17"
            ]
          },
          "metadata": {},
          "execution_count": 16
        }
      ]
    },
    {
      "cell_type": "code",
      "source": [
        "#The code, below, converts the unit minute into hours.\n",
        "\n",
        "minutes = 200\n",
        "min_per_hour = 60\n",
        "hours = minutes/min_per_hour\n",
        "print(hours)\n",
        "\n",
        "print(f'Alternatively, we can caluclate this directly: ', 200/60)\n"
      ],
      "metadata": {
        "colab": {
          "base_uri": "https://localhost:8080/"
        },
        "id": "J-i42oBJNzBa",
        "outputId": "7277d17d-94fa-43d1-92ec-a3edf03dd57d"
      },
      "execution_count": 21,
      "outputs": [
        {
          "output_type": "stream",
          "name": "stdout",
          "text": [
            "3.3333333333333335\n",
            "Alternatively, we can caluclate this directly:  3.3333333333333335\n"
          ]
        }
      ]
    },
    {
      "cell_type": "code",
      "source": [],
      "metadata": {
        "id": "ZCHn9jpdORut"
      },
      "execution_count": null,
      "outputs": []
    }
  ]
}